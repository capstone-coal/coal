{
 "cells": [
  {
   "cell_type": "code",
   "execution_count": 1,
   "metadata": {
    "collapsed": true
   },
   "outputs": [],
   "source": [
    "# Welcome to the COAL quickstart example... \n",
    "# Please report any issues with this notebook to our community issue tracker\n",
    "# https://github.com/capstone-coal/coal/issues\n",
    "\n",
    "#############\n",
    "# ATTENTION #\n",
    "#############\n",
    "# In order to run this example, you are required to download some data to the \n",
    "# same directory as this file. You can do this as follows\n",
    "#\n",
    "# wget -r -nH -nd -np -R index.html* ftp://avng.jpl.nasa.gov/AVNG_2015_data_distribution/L2/ang20150422t163638_rfl_v1e\n",
    "#\n",
    "# This will create a directory structure as follows \n",
    "# avng.jpl.nasa.gov/AVNG_2015_data_distribution/L2/ang20150422t163638_rfl_v1e\n",
    "#\n",
    "#.\n",
    "#└── L2\n",
    "#    └── ang20150422t163638_rfl_v1e\n",
    "#        ├── ang20150422t163638_corr_v1e_img\n",
    "#        ├── ang20150422t163638_corr_v1e_img.hdr\n",
    "#        ├── ang20150422t163638_h2o_v1e\n",
    "#        ├── ang20150422t163638_h2o_v1e.hdr\n",
    "#        └── ang20150422t163638_v1e_README.txt"
   ]
  },
  {
   "cell_type": "code",
   "execution_count": 2,
   "metadata": {
    "collapsed": true
   },
   "outputs": [],
   "source": [
    "# Licensed under the Apache License, Version 2.0 (the \"License\");\n",
    "# you may not use this file except in compliance with the License.\n",
    "# You may obtain a copy of the License at\n",
    "#\n",
    "#      http://www.apache.org/licenses/LICENSE-2.0\n",
    "#\n",
    "# Unless required by applicable law or agreed to in writing, software\n",
    "# distributed under the License is distributed on an \"AS IS\" BASIS,\n",
    "# WITHOUT WARRANTIES OR CONDITIONS OF ANY KIND, either express or implied.\n",
    "# See the License for the specific language governing permissions and\n",
    "# limitations under the License."
   ]
  },
  {
   "cell_type": "code",
   "execution_count": 3,
   "metadata": {
    "collapsed": true
   },
   "outputs": [],
   "source": [
    "# Import spectral library http://www.spectralpython.net\n",
    "from spectral import *"
   ]
  },
  {
   "cell_type": "code",
   "execution_count": 4,
   "metadata": {
    "collapsed": false
   },
   "outputs": [
    {
     "ename": "FileNotFoundError",
     "evalue": "Unable to locate file \"ang20150422t163638_corr_v1e_img.hdr\". If the file exists, use its full path or place its directory in the SPECTRAL_DATA environment variable.",
     "output_type": "error",
     "traceback": [
      "\u001b[0;31m---------------------------------------------------------------------------\u001b[0m",
      "\u001b[0;31mFileNotFoundError\u001b[0m                         Traceback (most recent call last)",
      "\u001b[0;32m<ipython-input-4-289e8e4ab505>\u001b[0m in \u001b[0;36m<module>\u001b[0;34m()\u001b[0m\n\u001b[1;32m      1\u001b[0m \u001b[0;31m# Open an AVIRISNG orthocorrected, scaled reflectance image file using the associated image header file\u001b[0m\u001b[0;34m\u001b[0m\u001b[0;34m\u001b[0m\u001b[0m\n\u001b[0;32m----> 2\u001b[0;31m \u001b[0mimg\u001b[0m \u001b[0;34m=\u001b[0m \u001b[0mspectral\u001b[0m\u001b[0;34m.\u001b[0m\u001b[0mopen_image\u001b[0m\u001b[0;34m(\u001b[0m\u001b[0;34m'ang20150422t163638_corr_v1e_img.hdr'\u001b[0m\u001b[0;34m)\u001b[0m\u001b[0;34m\u001b[0m\u001b[0m\n\u001b[0m",
      "\u001b[0;32m/Users/lmcgibbn/miniconda3/lib/python3.5/site-packages/spectral-0.18-py3.5.egg/spectral/spectral.py\u001b[0m in \u001b[0;36mopen_image\u001b[0;34m(file)\u001b[0m\n\u001b[1;32m    465\u001b[0m     \u001b[0;32mfrom\u001b[0m \u001b[0;34m.\u001b[0m\u001b[0mio\u001b[0m\u001b[0;34m.\u001b[0m\u001b[0mspyfile\u001b[0m \u001b[0;32mimport\u001b[0m \u001b[0mfind_file_path\u001b[0m\u001b[0;34m\u001b[0m\u001b[0m\n\u001b[1;32m    466\u001b[0m \u001b[0;34m\u001b[0m\u001b[0m\n\u001b[0;32m--> 467\u001b[0;31m     \u001b[0mpathname\u001b[0m \u001b[0;34m=\u001b[0m \u001b[0mfind_file_path\u001b[0m\u001b[0;34m(\u001b[0m\u001b[0mfile\u001b[0m\u001b[0;34m)\u001b[0m\u001b[0;34m\u001b[0m\u001b[0m\n\u001b[0m\u001b[1;32m    468\u001b[0m \u001b[0;34m\u001b[0m\u001b[0m\n\u001b[1;32m    469\u001b[0m     \u001b[0;31m# Try to open it as an ENVI header file.\u001b[0m\u001b[0;34m\u001b[0m\u001b[0;34m\u001b[0m\u001b[0m\n",
      "\u001b[0;32m/Users/lmcgibbn/miniconda3/lib/python3.5/site-packages/spectral-0.18-py3.5.egg/spectral/io/spyfile.py\u001b[0m in \u001b[0;36mfind_file_path\u001b[0;34m(filename)\u001b[0m\n\u001b[1;32m    141\u001b[0m           \u001b[0;34m'use its full path or place its directory in the '\u001b[0m\u001b[0;31m \u001b[0m\u001b[0;31m\\\u001b[0m\u001b[0;34m\u001b[0m\u001b[0m\n\u001b[1;32m    142\u001b[0m           \u001b[0;34m'SPECTRAL_DATA environment variable.'\u001b[0m  \u001b[0;34m%\u001b[0m \u001b[0mfilename\u001b[0m\u001b[0;34m\u001b[0m\u001b[0m\n\u001b[0;32m--> 143\u001b[0;31m         \u001b[0;32mraise\u001b[0m \u001b[0mFileNotFoundError\u001b[0m\u001b[0;34m(\u001b[0m\u001b[0mmsg\u001b[0m\u001b[0;34m)\u001b[0m\u001b[0;34m\u001b[0m\u001b[0m\n\u001b[0m\u001b[1;32m    144\u001b[0m     \u001b[0;32mreturn\u001b[0m \u001b[0mpathname\u001b[0m\u001b[0;34m\u001b[0m\u001b[0m\n\u001b[1;32m    145\u001b[0m \u001b[0;34m\u001b[0m\u001b[0m\n",
      "\u001b[0;31mFileNotFoundError\u001b[0m: Unable to locate file \"ang20150422t163638_corr_v1e_img.hdr\". If the file exists, use its full path or place its directory in the SPECTRAL_DATA environment variable."
     ]
    }
   ],
   "source": [
    "# Open an AVIRISNG orthocorrected, scaled reflectance image file using the \n",
    "# associated image header file\n",
    "img = spectral.open_image('avng.jpl.nasa.gov/AVNG_2015_data_distribution/L2/ang20150422t163638_rfl_v1e/ang20150422t163638_corr_v1e_img.hdr')"
   ]
  },
  {
   "cell_type": "code",
   "execution_count": null,
   "metadata": {
    "collapsed": true
   },
   "outputs": [],
   "source": [
    "# Lets take a look at the image shape\n",
    "img.shape\n",
    "#...\n",
    "# (4031, 899, 432)"
   ]
  },
  {
   "cell_type": "code",
   "execution_count": null,
   "metadata": {
    "collapsed": true
   },
   "outputs": [],
   "source": [
    "# Now lets have a look at some more image characteristics\n",
    "print(img)\n",
    "# Data Source:   '././ang20150422t163638_corr_v1e_img'\n",
    "#   # Rows:           4031\n",
    "#   # Samples:         899\n",
    "#   # Bands:           432\n",
    "#   Interleave:        BIL\n",
    "#   Quantization:  32 bits\n",
    "#   Data format:   float32"
   ]
  },
  {
   "cell_type": "code",
   "execution_count": null,
   "metadata": {
    "collapsed": true
   },
   "outputs": [],
   "source": [
    "# Let's view the image\n",
    "view = imshow(img, (29, 19, 9))"
   ]
  }
 ],
 "metadata": {
  "kernelspec": {
   "display_name": "Python 3",
   "language": "python",
   "name": "python3"
  },
  "language_info": {
   "codemirror_mode": {
    "name": "ipython",
    "version": 3
   },
   "file_extension": ".py",
   "mimetype": "text/x-python",
   "name": "python",
   "nbconvert_exporter": "python",
   "pygments_lexer": "ipython3",
   "version": "3.5.2"
  }
 },
 "nbformat": 4,
 "nbformat_minor": 1
}
